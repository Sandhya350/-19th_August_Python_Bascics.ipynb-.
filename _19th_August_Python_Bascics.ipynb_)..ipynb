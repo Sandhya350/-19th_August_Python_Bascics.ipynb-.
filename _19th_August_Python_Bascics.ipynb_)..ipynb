{
 "cells": [
  {
   "cell_type": "markdown",
   "id": "e0fd8702-ed54-40d6-aceb-0f19db229165",
   "metadata": {},
   "source": [
    "1. Declare two variables, `x` and `y`, and assign them integer values. Swap the values of these variables without using any temporary variable."
   ]
  },
  {
   "cell_type": "code",
   "execution_count": 1,
   "id": "cbe9027d-1826-4bc6-9b68-d54b2fb48ed5",
   "metadata": {},
   "outputs": [],
   "source": [
    "a1 = 45\n",
    "a2 = 76"
   ]
  },
  {
   "cell_type": "code",
   "execution_count": 2,
   "id": "077f95b8-9848-46bb-8347-bab07527bdfc",
   "metadata": {},
   "outputs": [],
   "source": [
    "a1 , a2 = a2 , a1"
   ]
  },
  {
   "cell_type": "code",
   "execution_count": 3,
   "id": "acd995fc-7755-4149-9e85-ad59292ab89a",
   "metadata": {},
   "outputs": [
    {
     "data": {
      "text/plain": [
       "76"
      ]
     },
     "execution_count": 3,
     "metadata": {},
     "output_type": "execute_result"
    }
   ],
   "source": [
    "a1"
   ]
  },
  {
   "cell_type": "code",
   "execution_count": 4,
   "id": "c65c42fe-2345-407f-ab76-451042bf7fd8",
   "metadata": {},
   "outputs": [
    {
     "data": {
      "text/plain": [
       "45"
      ]
     },
     "execution_count": 4,
     "metadata": {},
     "output_type": "execute_result"
    }
   ],
   "source": [
    "a2"
   ]
  },
  {
   "cell_type": "markdown",
   "id": "4d7e1a74-41f7-446e-87d4-af517bcd5f39",
   "metadata": {},
   "source": [
    "2. Create a program that calculates the area of a rectangle. Take the length and width as inputs from the user and store them in variables.\n",
    "Calculate and display the area."
   ]
  },
  {
   "cell_type": "code",
   "execution_count": 5,
   "id": "5a1035d7-b2de-43b9-9752-b28e403f7a4d",
   "metadata": {},
   "outputs": [],
   "source": [
    "len = 12\n",
    "wid = 10"
   ]
  },
  {
   "cell_type": "code",
   "execution_count": 9,
   "id": "92fa29a5-8c23-4aab-bcb4-3f0a9e3284be",
   "metadata": {},
   "outputs": [
    {
     "name": "stdout",
     "output_type": "stream",
     "text": [
      "120\n"
     ]
    }
   ],
   "source": [
    "print(len*wid)"
   ]
  },
  {
   "cell_type": "markdown",
   "id": "ef6c6f98-b0c0-438f-bb20-f972cfa67d29",
   "metadata": {},
   "source": [
    "3. Write a Python program that converts temperature from Celsius to Fahrenheit. Take the temperature in Celsius as input, store it in a\n",
    "variable, convert it to Fahrenheit, and display the result."
   ]
  },
  {
   "cell_type": "code",
   "execution_count": 12,
   "id": "9ab7c6fe-5293-49e5-aabb-350b1d952a87",
   "metadata": {},
   "outputs": [
    {
     "name": "stdin",
     "output_type": "stream",
     "text": [
      "temperature in defree celsius:  34\n"
     ]
    }
   ],
   "source": [
    "celsius = float(input(\"temperature in defree celsius: \"))"
   ]
  },
  {
   "cell_type": "code",
   "execution_count": 10,
   "id": "bf1eef92-ea0c-4ddb-a234-f32b7efe7e28",
   "metadata": {},
   "outputs": [],
   "source": [
    "farenheit = (celsius * 1.8)+32"
   ]
  },
  {
   "cell_type": "code",
   "execution_count": 17,
   "id": "492239ce-eaa3-41bf-9423-b176d797e535",
   "metadata": {},
   "outputs": [
    {
     "name": "stdout",
     "output_type": "stream",
     "text": [
      "temperature in fareinheit :  93\n"
     ]
    }
   ],
   "source": [
    "print(\"temperature in fareinheit : \" , farenheit)"
   ]
  },
  {
   "cell_type": "markdown",
   "id": "af52d89c-3061-477b-9fd4-a1fc5cd107aa",
   "metadata": {},
   "source": [
    "(1) Write a Python program that takes a string as input and prints the length of the string."
   ]
  },
  {
   "cell_type": "code",
   "execution_count": 18,
   "id": "40fcb330-f12f-48d2-8d31-d176870bee36",
   "metadata": {},
   "outputs": [],
   "source": [
    "s = \"sandhya\""
   ]
  },
  {
   "cell_type": "code",
   "execution_count": 24,
   "id": "5e207d1a-51d3-4d1c-99b7-e59c000ccab5",
   "metadata": {},
   "outputs": [
    {
     "name": "stdout",
     "output_type": "stream",
     "text": [
      "7\n"
     ]
    }
   ],
   "source": [
    "print(len(s))"
   ]
  },
  {
   "cell_type": "markdown",
   "id": "2f4e1793-45cb-42b3-9b74-127a9c43f37e",
   "metadata": {},
   "source": [
    "(2) Create a program that takes a sentence from the user and counts the number of vowels (a, e, i, o, u) in the string."
   ]
  },
  {
   "cell_type": "code",
   "execution_count": 25,
   "id": "20a23273-0b56-4cb4-b1d4-ad5c31b62a60",
   "metadata": {},
   "outputs": [],
   "source": [
    "p = \"blue is my favourite color\""
   ]
  },
  {
   "cell_type": "code",
   "execution_count": 38,
   "id": "036360b6-8d92-476a-8d92-424570cf7938",
   "metadata": {},
   "outputs": [
    {
     "data": {
      "text/plain": [
       "2"
      ]
     },
     "execution_count": 38,
     "metadata": {},
     "output_type": "execute_result"
    }
   ],
   "source": [
    "p.count(\"e\")"
   ]
  },
  {
   "cell_type": "code",
   "execution_count": 39,
   "id": "f74d8b2f-997e-44c9-bdeb-e0e4b5f1b5ff",
   "metadata": {},
   "outputs": [
    {
     "data": {
      "text/plain": [
       "1"
      ]
     },
     "execution_count": 39,
     "metadata": {},
     "output_type": "execute_result"
    }
   ],
   "source": [
    "p.count(\"a\")"
   ]
  },
  {
   "cell_type": "code",
   "execution_count": 40,
   "id": "321405d7-30b2-4b80-bcba-ec81ecd410e4",
   "metadata": {},
   "outputs": [
    {
     "data": {
      "text/plain": [
       "2"
      ]
     },
     "execution_count": 40,
     "metadata": {},
     "output_type": "execute_result"
    }
   ],
   "source": [
    "p.count(\"i\")"
   ]
  },
  {
   "cell_type": "code",
   "execution_count": 41,
   "id": "091abeef-5673-4976-8b5b-de50261386cb",
   "metadata": {},
   "outputs": [
    {
     "data": {
      "text/plain": [
       "3"
      ]
     },
     "execution_count": 41,
     "metadata": {},
     "output_type": "execute_result"
    }
   ],
   "source": [
    "p.count(\"o\")"
   ]
  },
  {
   "cell_type": "code",
   "execution_count": 42,
   "id": "28050ef6-4a04-4ddb-8229-4d86a21fcb54",
   "metadata": {},
   "outputs": [
    {
     "data": {
      "text/plain": [
       "2"
      ]
     },
     "execution_count": 42,
     "metadata": {},
     "output_type": "execute_result"
    }
   ],
   "source": [
    "p.count(\"u\")"
   ]
  },
  {
   "cell_type": "markdown",
   "id": "5ef143fd-164f-4b32-98d9-2febaed49dc7",
   "metadata": {},
   "source": [
    "(3) Given a string, reverse the order of characters using string slicing and print the reversed string."
   ]
  },
  {
   "cell_type": "code",
   "execution_count": 57,
   "id": "dd19c4d8-3e47-47c1-8b6b-8d884050a5cd",
   "metadata": {},
   "outputs": [],
   "source": [
    "text = \"hello kitty\" [: :-1]"
   ]
  },
  {
   "cell_type": "code",
   "execution_count": 58,
   "id": "f30b834c-09c3-407a-8925-2a2748c639cd",
   "metadata": {},
   "outputs": [
    {
     "name": "stdout",
     "output_type": "stream",
     "text": [
      "yttik olleh\n"
     ]
    }
   ],
   "source": [
    "print(text)"
   ]
  },
  {
   "cell_type": "markdown",
   "id": "606c37d0-fe7a-412a-b72c-e15687473724",
   "metadata": {},
   "source": [
    "(4) Write a program that takes a string as input and checks if it is a palindrome (reads the same forwards and backwards)."
   ]
  },
  {
   "cell_type": "code",
   "execution_count": 73,
   "id": "b710f5cb-463a-4d07-961b-a8d6f5355dcc",
   "metadata": {},
   "outputs": [],
   "source": [
    "s = \"maharashtra\""
   ]
  },
  {
   "cell_type": "code",
   "execution_count": 74,
   "id": "481c9be6-48ff-4ffc-9e91-e285507f1c76",
   "metadata": {},
   "outputs": [],
   "source": [
    "def ispalindrome(s): return s == s[: : -1]"
   ]
  },
  {
   "cell_type": "code",
   "execution_count": 75,
   "id": "6ff19afe-a939-4946-a415-013c89821730",
   "metadata": {},
   "outputs": [],
   "source": [
    "s = \"maharashtra\""
   ]
  },
  {
   "cell_type": "code",
   "execution_count": 76,
   "id": "93617fd3-9593-4efe-82b8-a52af9ed2bb8",
   "metadata": {},
   "outputs": [
    {
     "data": {
      "text/plain": [
       "False"
      ]
     },
     "execution_count": 76,
     "metadata": {},
     "output_type": "execute_result"
    }
   ],
   "source": [
    " ispalindrome(s)"
   ]
  },
  {
   "cell_type": "markdown",
   "id": "bd00093e-0229-45f6-83ae-cebe3fd61e50",
   "metadata": {},
   "source": [
    "(5) Create a program that takes a string as input and removes all the spaces from it. Print the modified string without spaces."
   ]
  },
  {
   "cell_type": "code",
   "execution_count": 107,
   "id": "280ee7fb-f485-43f4-aeaa-9e3f02c34c2c",
   "metadata": {},
   "outputs": [],
   "source": [
    "s1 = \"   i love india    \""
   ]
  },
  {
   "cell_type": "code",
   "execution_count": 108,
   "id": "1aa01724-a690-4436-a706-53281f60f614",
   "metadata": {},
   "outputs": [
    {
     "data": {
      "text/plain": [
       "'i love india    '"
      ]
     },
     "execution_count": 108,
     "metadata": {},
     "output_type": "execute_result"
    }
   ],
   "source": [
    "s1.lstrip()"
   ]
  },
  {
   "cell_type": "code",
   "execution_count": 109,
   "id": "89acf593-073e-4ab5-9985-7ae4e16ab352",
   "metadata": {},
   "outputs": [
    {
     "data": {
      "text/plain": [
       "'   i love india'"
      ]
     },
     "execution_count": 109,
     "metadata": {},
     "output_type": "execute_result"
    }
   ],
   "source": [
    "s1.rstrip()"
   ]
  }
 ],
 "metadata": {
  "kernelspec": {
   "display_name": "Python 3 (ipykernel)",
   "language": "python",
   "name": "python3"
  },
  "language_info": {
   "codemirror_mode": {
    "name": "ipython",
    "version": 3
   },
   "file_extension": ".py",
   "mimetype": "text/x-python",
   "name": "python",
   "nbconvert_exporter": "python",
   "pygments_lexer": "ipython3",
   "version": "3.10.8"
  }
 },
 "nbformat": 4,
 "nbformat_minor": 5
}
